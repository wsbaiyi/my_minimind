{
 "cells": [
  {
   "cell_type": "code",
   "execution_count": null,
   "id": "78ddfbe6-ef91-44d4-a9b9-36ad9c653471",
   "metadata": {},
   "outputs": [],
   "source": []
  }
 ],
 "metadata": {
  "kernelspec": {
   "display_name": "",
   "name": ""
  },
  "language_info": {
   "name": ""
  }
 },
 "nbformat": 4,
 "nbformat_minor": 5
}
