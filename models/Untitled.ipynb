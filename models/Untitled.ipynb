{
 "cells": [
  {
   "cell_type": "code",
   "execution_count": 14,
   "id": "0207e810-15c3-4a73-9c46-2247a919de34",
   "metadata": {},
   "outputs": [],
   "source": [
    "import torch"
   ]
  },
  {
   "cell_type": "code",
   "execution_count": 15,
   "id": "dd62305f-1003-4f2c-a8ae-b0c902e40cbe",
   "metadata": {},
   "outputs": [
    {
     "name": "stdout",
     "output_type": "stream",
     "text": [
      "二维张量 gather 结果: tensor([[1, 3],\n",
      "        [5, 4],\n",
      "        [9, 8]])\n"
     ]
    }
   ],
   "source": [
    "import torch\n",
    "\n",
    "# 创建输入张量\n",
    "input_tensor = torch.tensor([[1, 2, 3], [4, 5, 6], [7, 8, 9]])\n",
    "# 创建索引张量\n",
    "index_tensor = torch.tensor([[0, 2], [1, 0], [2, 1]])\n",
    "# 在维度 1 上进行 gather 操作\n",
    "result = torch.gather(input_tensor, 1, index_tensor)\n",
    "print(\"二维张量 gather 结果:\", result)"
   ]
  },
  {
   "cell_type": "code",
   "execution_count": 20,
   "id": "bc0f9aa6-feca-4b68-9707-ed1d45094978",
   "metadata": {},
   "outputs": [],
   "source": [
    "a=torch.ones(1,2,3)\n",
    "b=torch.ones(2,2,3)"
   ]
  },
  {
   "cell_type": "code",
   "execution_count": 21,
   "id": "52d043c4-6099-49bc-bc05-5d843426df8b",
   "metadata": {},
   "outputs": [
    {
     "data": {
      "text/plain": [
       "torch.Size([3, 2, 3])"
      ]
     },
     "execution_count": 21,
     "metadata": {},
     "output_type": "execute_result"
    }
   ],
   "source": [
    "torch.cat([a,b],dim=0).shape"
   ]
  },
  {
   "cell_type": "code",
   "execution_count": 22,
   "id": "e6f4711e-da99-4279-92a9-d0156d4602ab",
   "metadata": {},
   "outputs": [
    {
     "ename": "RuntimeError",
     "evalue": "stack expects each tensor to be equal size, but got [1, 2, 3] at entry 0 and [2, 2, 3] at entry 1",
     "output_type": "error",
     "traceback": [
      "\u001b[1;31m---------------------------------------------------------------------------\u001b[0m",
      "\u001b[1;31mRuntimeError\u001b[0m                              Traceback (most recent call last)",
      "Cell \u001b[1;32mIn[22], line 1\u001b[0m\n\u001b[1;32m----> 1\u001b[0m \u001b[43mtorch\u001b[49m\u001b[38;5;241;43m.\u001b[39;49m\u001b[43mstack\u001b[49m\u001b[43m(\u001b[49m\u001b[43m(\u001b[49m\u001b[43ma\u001b[49m\u001b[43m,\u001b[49m\u001b[43mb\u001b[49m\u001b[43m)\u001b[49m\u001b[43m,\u001b[49m\u001b[43mdim\u001b[49m\u001b[38;5;241;43m=\u001b[39;49m\u001b[38;5;241;43m0\u001b[39;49m\u001b[43m)\u001b[49m\u001b[38;5;241m.\u001b[39mshape\n",
      "\u001b[1;31mRuntimeError\u001b[0m: stack expects each tensor to be equal size, but got [1, 2, 3] at entry 0 and [2, 2, 3] at entry 1"
     ]
    }
   ],
   "source": [
    "torch.stack((a,b),dim=0).shape"
   ]
  },
  {
   "cell_type": "code",
   "execution_count": null,
   "id": "a8827d18-1113-498d-b37c-f08899919c48",
   "metadata": {},
   "outputs": [],
   "source": []
  },
  {
   "cell_type": "code",
   "execution_count": null,
   "id": "1b58cdb8-d385-4653-b249-1635354bf725",
   "metadata": {},
   "outputs": [],
   "source": []
  },
  {
   "cell_type": "code",
   "execution_count": 5,
   "id": "03ec6c6d-2137-424e-aec3-b846214f15e0",
   "metadata": {},
   "outputs": [
    {
     "data": {
      "text/plain": [
       "tensor([0.0321, 0.0871, 0.2369, 0.6439])"
      ]
     },
     "execution_count": 5,
     "metadata": {},
     "output_type": "execute_result"
    }
   ],
   "source": [
    "x = torch.tensor([2,3,4,5],dtype=torch.float32)\n",
    "x=x.softmax(dim=-1)\n",
    "x"
   ]
  },
  {
   "cell_type": "code",
   "execution_count": 13,
   "id": "97a21684-8610-440d-a1b3-6e37869864cc",
   "metadata": {},
   "outputs": [
    {
     "data": {
      "text/plain": [
       "tensor([3])"
      ]
     },
     "execution_count": 13,
     "metadata": {},
     "output_type": "execute_result"
    }
   ],
   "source": [
    "torch.multinomial(x,1)"
   ]
  },
  {
   "cell_type": "code",
   "execution_count": 8,
   "id": "027a758d-3e97-43b1-beff-9410e1cd19d2",
   "metadata": {},
   "outputs": [
    {
     "data": {
      "text/plain": [
       "tensor([0, 2, 4])"
      ]
     },
     "execution_count": 8,
     "metadata": {},
     "output_type": "execute_result"
    }
   ],
   "source": [
    "dim=5\n",
    "torch.arange(0,dim,2)"
   ]
  },
  {
   "cell_type": "code",
   "execution_count": 9,
   "id": "f8fa657e-2a1b-422d-bd08-71429397563d",
   "metadata": {},
   "outputs": [
    {
     "name": "stdout",
     "output_type": "stream",
     "text": [
      "tensor([[ 4,  4,  4],\n",
      "        [ 6,  6,  6],\n",
      "        [ 8,  8,  8],\n",
      "        [10, 10, 10]])\n"
     ]
    }
   ],
   "source": [
    "\n",
    "# 1.直接使用torch.outer函数\n",
    "x = torch.tensor([2,3,4,5])\n",
    "y = torch.tensor([2,2,2])\n",
    " \n",
    "out = torch.outer(x,y)\n",
    "print(out)\n"
   ]
  },
  {
   "cell_type": "code",
   "execution_count": null,
   "id": "ef98f803-cd7a-461a-a759-eb38ffd8a089",
   "metadata": {},
   "outputs": [],
   "source": []
  },
  {
   "cell_type": "code",
   "execution_count": null,
   "id": "195e9cd7-4d42-4726-9f19-0bbea37522ce",
   "metadata": {},
   "outputs": [],
   "source": []
  },
  {
   "cell_type": "code",
   "execution_count": null,
   "id": "e7135f25-b44c-4675-b86f-122a3b49641a",
   "metadata": {},
   "outputs": [],
   "source": []
  },
  {
   "cell_type": "code",
   "execution_count": null,
   "id": "0f499256-68d2-4b95-b42d-64407370aec6",
   "metadata": {},
   "outputs": [],
   "source": []
  },
  {
   "cell_type": "code",
   "execution_count": null,
   "id": "d579f876-4bea-4bdc-8ab5-f73a49b91811",
   "metadata": {},
   "outputs": [],
   "source": []
  },
  {
   "cell_type": "code",
   "execution_count": null,
   "id": "8ee1d43f-003e-47bb-815e-36a0402e3fd2",
   "metadata": {},
   "outputs": [],
   "source": []
  },
  {
   "cell_type": "code",
   "execution_count": null,
   "id": "be32fcbb-a673-43d0-8893-b745f5ee1fd8",
   "metadata": {},
   "outputs": [],
   "source": []
  },
  {
   "cell_type": "code",
   "execution_count": null,
   "id": "26438cf8-1046-40f6-a178-263c5bc4b069",
   "metadata": {},
   "outputs": [],
   "source": []
  },
  {
   "cell_type": "code",
   "execution_count": 2,
   "id": "67fc99fe-5b00-4be6-ab9c-29eb6df8ed2f",
   "metadata": {},
   "outputs": [],
   "source": [
    "indexs=torch.tensor([2,1,0,3,2,1])"
   ]
  },
  {
   "cell_type": "code",
   "execution_count": 3,
   "id": "a20756f9-80e4-473e-ada6-385da1e95ca5",
   "metadata": {},
   "outputs": [
    {
     "data": {
      "text/plain": [
       "tensor([2, 1, 5, 0, 4, 3])"
      ]
     },
     "execution_count": 3,
     "metadata": {},
     "output_type": "execute_result"
    }
   ],
   "source": [
    "idx=indexs.argsort()\n",
    "idx"
   ]
  },
  {
   "cell_type": "code",
   "execution_count": 4,
   "id": "4e1b49d6-e7fe-4346-97a8-68ad6a0768b2",
   "metadata": {},
   "outputs": [
    {
     "data": {
      "text/plain": [
       "array([1, 3, 5, 6], dtype=int64)"
      ]
     },
     "execution_count": 4,
     "metadata": {},
     "output_type": "execute_result"
    }
   ],
   "source": [
    "c=indexs.bincount().numpy().cumsum(0)\n",
    "c"
   ]
  },
  {
   "cell_type": "code",
   "execution_count": 5,
   "id": "cd68144b-7276-4c77-9ce5-5380b1c62c41",
   "metadata": {},
   "outputs": [
    {
     "data": {
      "text/plain": [
       "tensor([0, 0, 1, 0, 1, 1])"
      ]
     },
     "execution_count": 5,
     "metadata": {},
     "output_type": "execute_result"
    }
   ],
   "source": [
    "token_ids=idx//3\n",
    "token_ids"
   ]
  },
  {
   "cell_type": "code",
   "execution_count": 9,
   "id": "6b41cb4a-624d-4367-8c21-68e8c4a3e754",
   "metadata": {},
   "outputs": [
    {
     "data": {
      "text/plain": [
       "tensor([0, 1])"
      ]
     },
     "execution_count": 9,
     "metadata": {},
     "output_type": "execute_result"
    }
   ],
   "source": [
    "start=3\n",
    "end=5\n",
    "exp_token_idx = token_ids[start:end]\n",
    "exp_token_idx"
   ]
  },
  {
   "cell_type": "code",
   "execution_count": 12,
   "id": "97b6da07-15fa-4398-b121-57f4ad7f3e72",
   "metadata": {},
   "outputs": [
    {
     "data": {
      "text/plain": [
       "3"
      ]
     },
     "execution_count": 12,
     "metadata": {},
     "output_type": "execute_result"
    }
   ],
   "source": [
    "t=None\n",
    "c=3\n",
    "a=t or ca'a'a'a'r'f'we'e\n",
    "a"
   ]
  },
  {
   "cell_type": "code",
   "execution_count": 17,
   "id": "06390ef1-1c46-4543-b6f0-8b0905243d94",
   "metadata": {},
   "outputs": [
    {
     "data": {
      "text/plain": [
       "torch.Size([2, 1])"
      ]
     },
     "execution_count": 17,
     "metadata": {},
     "output_type": "execute_result"
    }
   ],
   "source": [
    "a=torch.ones(2,2)\n",
    "shape=a.shape\n",
    "torch.view_as_complex(a.reshape(*shape[:-1],-1,2)).shape"
   ]
  },
  {
   "cell_type": "code",
   "execution_count": 18,
   "id": "58a5dc15-606d-4c95-a5f2-adde83471b9c",
   "metadata": {},
   "outputs": [
    {
     "data": {
      "text/plain": [
       "[None, None, None]"
      ]
     },
     "execution_count": 18,
     "metadata": {},
     "output_type": "execute_result"
    }
   ],
   "source": [
    "[None]*3"
   ]
  },
  {
   "cell_type": "code",
   "execution_count": null,
   "id": "5d522cf8-75b9-4442-bae3-609c1df026b3",
   "metadata": {},
   "outputs": [],
   "source": [
    "每次输出预测的数据"
   ]
  },
  {
   "cell_type": "code",
   "execution_count": null,
   "id": "a305a309-581d-48a0-ad5c-2a6f34342764",
   "metadata": {},
   "outputs": [],
   "source": []
  },
  {
   "cell_type": "code",
   "execution_count": 21,
   "id": "c838574a-859e-4a2b-bea5-234b3fdeed3f",
   "metadata": {},
   "outputs": [],
   "source": [
    "logits=torch.tensor([[0.2,0.3,0.1,0.4]])"
   ]
  },
  {
   "cell_type": "code",
   "execution_count": 22,
   "id": "1e4f89d7-a891-4d7e-9caa-799afa5e833c",
   "metadata": {},
   "outputs": [],
   "source": [
    "sorted_logits, sorted_indices = torch.sort(logits, descending=True, dim=-1)"
   ]
  },
  {
   "cell_type": "code",
   "execution_count": 23,
   "id": "1e969b5e-3e6f-4464-9b53-fc2403e23977",
   "metadata": {},
   "outputs": [
    {
     "data": {
      "text/plain": [
       "tensor([[0.4000, 0.3000, 0.2000, 0.1000]])"
      ]
     },
     "execution_count": 23,
     "metadata": {},
     "output_type": "execute_result"
    }
   ],
   "source": [
    "sorted_logits"
   ]
  },
  {
   "cell_type": "code",
   "execution_count": 24,
   "id": "c0c5df90-0b5f-441c-b737-f49db17aadf3",
   "metadata": {},
   "outputs": [
    {
     "data": {
      "text/plain": [
       "tensor([[3, 1, 0, 2]])"
      ]
     },
     "execution_count": 24,
     "metadata": {},
     "output_type": "execute_result"
    }
   ],
   "source": [
    "sorted_indices"
   ]
  },
  {
   "cell_type": "code",
   "execution_count": 29,
   "id": "296af5bd-48b2-4016-b728-8befc71cd815",
   "metadata": {},
   "outputs": [
    {
     "data": {
      "text/plain": [
       "tensor([[False, False, False,  True]])"
      ]
     },
     "execution_count": 29,
     "metadata": {},
     "output_type": "execute_result"
    }
   ],
   "source": [
    "import torch.nn.functional as F\n",
    "sorted_probs = F.softmax(sorted_logits, dim=-1)\n",
    "cumulative_probs = torch.cumsum(sorted_probs, dim=-1)\n",
    "sorted_indices_to_remove = cumulative_probs > 0.7 #标记为False的是要保留的token\n",
    "sorted_indices_to_remove[:, 1:] = sorted_indices_to_remove[:, :-1].clone() \n",
    "sorted_indices_to_remove"
   ]
  },
  {
   "cell_type": "code",
   "execution_count": 33,
   "id": "f184e170-fd2f-41f6-ac37-0944786874ad",
   "metadata": {},
   "outputs": [
    {
     "data": {
      "text/plain": [
       "tensor([[False, False,  True, False]])"
      ]
     },
     "execution_count": 33,
     "metadata": {},
     "output_type": "execute_result"
    }
   ],
   "source": [
    "sorted_indices_to_remove[:, 0] = False\n",
    "indices_to_remove = sorted_indices_to_remove.scatter(1, sorted_indices, sorted_indices_to_remove)\n",
    "                # indices_to_remove = sorted_indices_to_remove[:,sorted_indices]=sorted_indices_to_remove上面代码与这句等价\n",
    "indices_to_remove"
   ]
  },
  {
   "cell_type": "code",
   "execution_count": 34,
   "id": "4e941651-2e0d-40cc-bb27-bd4987188533",
   "metadata": {},
   "outputs": [
    {
     "data": {
      "text/plain": [
       "tensor([[0.2000, 0.3000,   -inf, 0.4000]])"
      ]
     },
     "execution_count": 34,
     "metadata": {},
     "output_type": "execute_result"
    }
   ],
   "source": [
    "logits[indices_to_remove] = -float('Inf')\n",
    "logits"
   ]
  },
  {
   "cell_type": "code",
   "execution_count": null,
   "id": "4f2c6a77-0436-484e-9230-d1f7fe854e79",
   "metadata": {},
   "outputs": [],
   "source": []
  },
  {
   "cell_type": "code",
   "execution_count": null,
   "id": "aba45fb8-7897-4e90-8516-9c7f3562d096",
   "metadata": {},
   "outputs": [],
   "source": []
  },
  {
   "cell_type": "code",
   "execution_count": 32,
   "id": "da47536b-2afc-4eb0-ba9c-389aa1c26802",
   "metadata": {},
   "outputs": [],
   "source": [
    "input_ids_next = torch.multinomial(F.softmax(logits, dim=-1), num_samples=1)\n",
    "            # torch.multinomial 函数用于从多项分布中进行抽样\n"
   ]
  },
  {
   "cell_type": "code",
   "execution_count": null,
   "id": "d9142748-026b-4251-ab41-b96d7be87d82",
   "metadata": {},
   "outputs": [],
   "source": []
  },
  {
   "cell_type": "code",
   "execution_count": null,
   "id": "1d0ca984-eafb-4bbd-8681-67f4e39c165a",
   "metadata": {},
   "outputs": [],
   "source": [
    "torch"
   ]
  },
  {
   "cell_type": "code",
   "execution_count": null,
   "id": "7b9a02c7-3af1-4ec2-925b-010fec33ad9e",
   "metadata": {},
   "outputs": [],
   "source": []
  },
  {
   "cell_type": "code",
   "execution_count": null,
   "id": "ec85ad44-1915-4327-8736-f80fdb6d2a0b",
   "metadata": {},
   "outputs": [],
   "source": []
  },
  {
   "cell_type": "code",
   "execution_count": null,
   "id": "ad5ba402-f2ce-47a3-ba49-1782defd78ce",
   "metadata": {},
   "outputs": [],
   "source": []
  },
  {
   "cell_type": "code",
   "execution_count": null,
   "id": "72f91320-5244-40e7-a8a0-a7ab19f0fd66",
   "metadata": {},
   "outputs": [],
   "source": []
  },
  {
   "cell_type": "code",
   "execution_count": null,
   "id": "32b1380a-f611-4b36-b203-20ca67fa8e4d",
   "metadata": {},
   "outputs": [],
   "source": []
  },
  {
   "cell_type": "code",
   "execution_count": null,
   "id": "ba6f1431-f8fa-434f-b30b-78db399898c2",
   "metadata": {},
   "outputs": [],
   "source": []
  },
  {
   "cell_type": "code",
   "execution_count": 37,
   "id": "dd2013c4-0713-46be-95df-a87bd5e63fa3",
   "metadata": {},
   "outputs": [
    {
     "data": {
      "text/plain": [
       "tensor([[1., 1., 1.]])"
      ]
     },
     "execution_count": 37,
     "metadata": {},
     "output_type": "execute_result"
    }
   ],
   "source": [
    "seq=torch.ones(1,3)\n",
    "seq"
   ]
  },
  {
   "cell_type": "code",
   "execution_count": 36,
   "id": "f3e56868-16c9-456c-bf3f-2d024f1733ee",
   "metadata": {},
   "outputs": [
    {
     "data": {
      "text/plain": [
       "tensor([[0, 0]])"
      ]
     },
     "execution_count": 36,
     "metadata": {},
     "output_type": "execute_result"
    }
   ],
   "source": [
    "torch.full((1, 5 - seq.size(1)), 0)"
   ]
  },
  {
   "cell_type": "code",
   "execution_count": null,
   "id": "8a791002-22cb-43b5-b153-57ecacdf9a64",
   "metadata": {},
   "outputs": [],
   "source": [
    "precompute_pos_cis("
   ]
  },
  {
   "cell_type": "code",
   "execution_count": null,
   "id": "b7e9ce0a-0a89-46c2-b28b-d5dcba6e7e7a",
   "metadata": {},
   "outputs": [],
   "source": []
  },
  {
   "cell_type": "code",
   "execution_count": null,
   "id": "1a5d37b5-cd74-44e2-8182-7340fcfb4e87",
   "metadata": {},
   "outputs": [],
   "source": []
  },
  {
   "cell_type": "code",
   "execution_count": 20,
   "id": "e7d6cbb1-4ce8-4607-be3b-2d920df3318e",
   "metadata": {},
   "outputs": [
    {
     "data": {
      "text/plain": [
       "tensor([[1., 1.]])"
      ]
     },
     "execution_count": 20,
     "metadata": {},
     "output_type": "execute_result"
    }
   ],
   "source": [
    "q=torch.ones(1,2)\n",
    "# k=torch.ones(1,2,2,1)\n",
    "# v=torch.ones(1,2,2,1)\n",
    "# q.tolist()\n",
    "q"
   ]
  },
  {
   "cell_type": "code",
   "execution_count": 16,
   "id": "0fbddf24-a400-4c35-9125-00d4be4b77f4",
   "metadata": {},
   "outputs": [
    {
     "data": {
      "text/plain": [
       "torch.Size([1, 1, 1])"
      ]
     },
     "execution_count": 16,
     "metadata": {},
     "output_type": "execute_result"
    }
   ],
   "source": [
    "q.mean(1).shape"
   ]
  },
  {
   "cell_type": "code",
   "execution_count": 12,
   "id": "9498a23e-762d-4742-80c3-cad4a6f4855a",
   "metadata": {},
   "outputs": [
    {
     "data": {
      "text/plain": [
       "torch.Size([1, 2, 1, 2])"
      ]
     },
     "execution_count": 12,
     "metadata": {},
     "output_type": "execute_result"
    }
   ],
   "source": [
    "t=(q@k.transpose(-1,-2))\n",
    "t.shape"
   ]
  },
  {
   "cell_type": "code",
   "execution_count": 13,
   "id": "d952645f-6942-47b7-94fa-24dd043824d0",
   "metadata": {},
   "outputs": [
    {
     "data": {
      "text/plain": [
       "torch.Size([1, 2, 1, 1])"
      ]
     },
     "execution_count": 13,
     "metadata": {},
     "output_type": "execute_result"
    }
   ],
   "source": [
    "z=t@v\n",
    "z.shape"
   ]
  },
  {
   "cell_type": "code",
   "execution_count": 19,
   "id": "0f74c409-f908-4855-8cb6-044407b9fe5e",
   "metadata": {},
   "outputs": [
    {
     "data": {
      "text/plain": [
       "torch.Size([1, 2])"
      ]
     },
     "execution_count": 19,
     "metadata": {},
     "output_type": "execute_result"
    }
   ],
   "source": [
    "a=torch.ones((1,2))\n",
    "a.shape"
   ]
  },
  {
   "cell_type": "code",
   "execution_count": 21,
   "id": "915eca25-f443-4994-81a1-81366f3b58eb",
   "metadata": {},
   "outputs": [
    {
     "data": {
      "text/plain": [
       "torch.Size([2, 1])"
      ]
     },
     "execution_count": 21,
     "metadata": {},
     "output_type": "execute_result"
    }
   ],
   "source": [
    "b=a.view(-1,1)\n",
    "b.shape"
   ]
  },
  {
   "cell_type": "code",
   "execution_count": 4,
   "id": "48c4b0f5-b678-4a73-8c38-ca9d3719910a",
   "metadata": {},
   "outputs": [],
   "source": [
    "past=(k,v)"
   ]
  },
  {
   "cell_type": "code",
   "execution_count": 6,
   "id": "b96b2ea5-d85b-4595-83ba-20dd5f54eeb4",
   "metadata": {},
   "outputs": [],
   "source": [
    "k=torch.cat([past[0],k],dim=1)\n",
    "v=torch.cat([past[0],v],dim=1)"
   ]
  },
  {
   "cell_type": "code",
   "execution_count": 7,
   "id": "61536b8c-10b7-430d-a87c-b12a15f08314",
   "metadata": {},
   "outputs": [
    {
     "data": {
      "text/plain": [
       "torch.Size([1, 4, 2, 2])"
      ]
     },
     "execution_count": 7,
     "metadata": {},
     "output_type": "execute_result"
    }
   ],
   "source": [
    "k.shape"
   ]
  },
  {
   "cell_type": "code",
   "execution_count": 8,
   "id": "8e5d3d74-9688-432b-bc38-7017dd513d6c",
   "metadata": {},
   "outputs": [
    {
     "data": {
      "text/plain": [
       "torch.Size([1, 4, 2, 2])"
      ]
     },
     "execution_count": 8,
     "metadata": {},
     "output_type": "execute_result"
    }
   ],
   "source": [
    "v.shape"
   ]
  },
  {
   "cell_type": "code",
   "execution_count": null,
   "id": "0c7ec5c0-e302-44ea-80d5-1e59562ba50a",
   "metadata": {},
   "outputs": [],
   "source": []
  }
 ],
 "metadata": {
  "kernelspec": {
   "display_name": "mind",
   "language": "python",
   "name": "mind"
  },
  "language_info": {
   "codemirror_mode": {
    "name": "ipython",
    "version": 3
   },
   "file_extension": ".py",
   "mimetype": "text/x-python",
   "name": "python",
   "nbconvert_exporter": "python",
   "pygments_lexer": "ipython3",
   "version": "3.10.16"
  }
 },
 "nbformat": 4,
 "nbformat_minor": 5
}
