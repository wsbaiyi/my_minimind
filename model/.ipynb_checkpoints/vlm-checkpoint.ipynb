{
 "cells": [
  {
   "cell_type": "code",
   "execution_count": 2,
   "id": "66a5ba5f-3cda-4769-bdec-04be0e6ff0d6",
   "metadata": {},
   "outputs": [],
   "source": [
    "from transformers import CLIPProcessor, CLIPModel\n",
    "import torch\n",
    "\n",
    "model_path=\"./vision_model/clip-vit-base-patch16\"\n",
    "processor = CLIPProcessor.from_pretrained(model_path)"
   ]
  },
  {
   "cell_type": "code",
   "execution_count": 5,
   "id": "eb9e8d2f-103c-47dc-b473-5d639f481974",
   "metadata": {},
   "outputs": [],
   "source": [
    "from PIL import Image\n",
    "image = Image.open(\"../test_img/eval_images/0.PNG\")"
   ]
  },
  {
   "cell_type": "code",
   "execution_count": 17,
   "id": "0cdbeed1-43d6-4701-a236-42bfa40bee6d",
   "metadata": {},
   "outputs": [
    {
     "data": {
      "text/plain": [
       "torch.Size([2, 1, 3, 224, 224])"
      ]
     },
     "execution_count": 17,
     "metadata": {},
     "output_type": "execute_result"
    }
   ],
   "source": [
    "inputs = processor(images=image, return_tensors=\"pt\")\n",
    "# input=inputs.pixel_values\n",
    "input=inputs.pixel_values.unsqueeze(0)\n",
    "input=torch.cat([input,input],dim=0)\n",
    "input.shape"
   ]
  },
  {
   "cell_type": "code",
   "execution_count": 10,
   "id": "457defe4-dc24-45fe-bcad-b87b6e199153",
   "metadata": {},
   "outputs": [],
   "source": [
    "model = CLIPModel.from_pretrained(model_path)"
   ]
  },
  {
   "cell_type": "code",
   "execution_count": 18,
   "id": "5952cda3-f5f8-4aa4-b2a5-02c25a859da0",
   "metadata": {},
   "outputs": [
    {
     "data": {
      "text/plain": [
       "torch.Size([2, 197, 768])"
      ]
     },
     "execution_count": 18,
     "metadata": {},
     "output_type": "execute_result"
    }
   ],
   "source": [
    "outputs = model.vision_model(pixel_values=input.squeeze(1))\n",
    "# b,patch,hidden\n",
    "outputs.last_hidden_state.shape"
   ]
  },
  {
   "cell_type": "code",
   "execution_count": null,
   "id": "9f3e4786-08e6-47a0-8b55-446a94decaf8",
   "metadata": {},
   "outputs": [],
   "source": []
  }
 ],
 "metadata": {
  "kernelspec": {
   "display_name": "mind",
   "language": "python",
   "name": "mind"
  },
  "language_info": {
   "codemirror_mode": {
    "name": "ipython",
    "version": 3
   },
   "file_extension": ".py",
   "mimetype": "text/x-python",
   "name": "python",
   "nbconvert_exporter": "python",
   "pygments_lexer": "ipython3",
   "version": "3.10.16"
  }
 },
 "nbformat": 4,
 "nbformat_minor": 5
}
