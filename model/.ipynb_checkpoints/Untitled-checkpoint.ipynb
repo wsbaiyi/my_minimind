{
 "cells": [
  {
   "cell_type": "code",
   "execution_count": 1,
   "id": "0207e810-15c3-4a73-9c46-2247a919de34",
   "metadata": {},
   "outputs": [],
   "source": [
    "import torch"
   ]
  },
  {
   "cell_type": "code",
   "execution_count": 2,
   "id": "67fc99fe-5b00-4be6-ab9c-29eb6df8ed2f",
   "metadata": {},
   "outputs": [],
   "source": [
    "indexs=torch.tensor([2,1,0,3,2,1])"
   ]
  },
  {
   "cell_type": "code",
   "execution_count": 3,
   "id": "a20756f9-80e4-473e-ada6-385da1e95ca5",
   "metadata": {},
   "outputs": [
    {
     "data": {
      "text/plain": [
       "tensor([2, 1, 5, 0, 4, 3])"
      ]
     },
     "execution_count": 3,
     "metadata": {},
     "output_type": "execute_result"
    }
   ],
   "source": [
    "idx=indexs.argsort()\n",
    "idx"
   ]
  },
  {
   "cell_type": "code",
   "execution_count": 4,
   "id": "4e1b49d6-e7fe-4346-97a8-68ad6a0768b2",
   "metadata": {},
   "outputs": [
    {
     "data": {
      "text/plain": [
       "array([1, 3, 5, 6], dtype=int64)"
      ]
     },
     "execution_count": 4,
     "metadata": {},
     "output_type": "execute_result"
    }
   ],
   "source": [
    "c=indexs.bincount().numpy().cumsum(0)\n",
    "c"
   ]
  },
  {
   "cell_type": "code",
   "execution_count": 5,
   "id": "cd68144b-7276-4c77-9ce5-5380b1c62c41",
   "metadata": {},
   "outputs": [
    {
     "data": {
      "text/plain": [
       "tensor([0, 0, 1, 0, 1, 1])"
      ]
     },
     "execution_count": 5,
     "metadata": {},
     "output_type": "execute_result"
    }
   ],
   "source": [
    "token_ids=idx//3\n",
    "token_ids"
   ]
  },
  {
   "cell_type": "code",
   "execution_count": 9,
   "id": "6b41cb4a-624d-4367-8c21-68e8c4a3e754",
   "metadata": {},
   "outputs": [
    {
     "data": {
      "text/plain": [
       "tensor([0, 1])"
      ]
     },
     "execution_count": 9,
     "metadata": {},
     "output_type": "execute_result"
    }
   ],
   "source": [
    "start=3\n",
    "end=5\n",
    "exp_token_idx = token_ids[start:end]\n",
    "exp_token_idx"
   ]
  },
  {
   "cell_type": "code",
   "execution_count": 12,
   "id": "97b6da07-15fa-4398-b121-57f4ad7f3e72",
   "metadata": {},
   "outputs": [
    {
     "data": {
      "text/plain": [
       "3"
      ]
     },
     "execution_count": 12,
     "metadata": {},
     "output_type": "execute_result"
    }
   ],
   "source": [
    "t=None\n",
    "c=3\n",
    "a=t or ca'a'a'a'r'f'we'e\n",
    "a"
   ]
  },
  {
   "cell_type": "code",
   "execution_count": 17,
   "id": "06390ef1-1c46-4543-b6f0-8b0905243d94",
   "metadata": {},
   "outputs": [
    {
     "data": {
      "text/plain": [
       "torch.Size([2, 1])"
      ]
     },
     "execution_count": 17,
     "metadata": {},
     "output_type": "execute_result"
    }
   ],
   "source": [
    "a=torch.ones(2,2)\n",
    "shape=a.shape\n",
    "torch.view_as_complex(a.reshape(*shape[:-1],-1,2)).shape"
   ]
  },
  {
   "cell_type": "code",
   "execution_count": 18,
   "id": "58a5dc15-606d-4c95-a5f2-adde83471b9c",
   "metadata": {},
   "outputs": [
    {
     "data": {
      "text/plain": [
       "[None, None, None]"
      ]
     },
     "execution_count": 18,
     "metadata": {},
     "output_type": "execute_result"
    }
   ],
   "source": [
    "[None]*3"
   ]
  },
  {
   "cell_type": "code",
   "execution_count": null,
   "id": "5d522cf8-75b9-4442-bae3-609c1df026b3",
   "metadata": {},
   "outputs": [],
   "source": [
    "每次输出预测的数据"
   ]
  },
  {
   "cell_type": "code",
   "execution_count": null,
   "id": "a305a309-581d-48a0-ad5c-2a6f34342764",
   "metadata": {},
   "outputs": [],
   "source": []
  },
  {
   "cell_type": "code",
   "execution_count": 21,
   "id": "c838574a-859e-4a2b-bea5-234b3fdeed3f",
   "metadata": {},
   "outputs": [],
   "source": [
    "logits=torch.tensor([[0.2,0.3,0.1,0.4]])"
   ]
  },
  {
   "cell_type": "code",
   "execution_count": 22,
   "id": "1e4f89d7-a891-4d7e-9caa-799afa5e833c",
   "metadata": {},
   "outputs": [],
   "source": [
    "sorted_logits, sorted_indices = torch.sort(logits, descending=True, dim=-1)"
   ]
  },
  {
   "cell_type": "code",
   "execution_count": 23,
   "id": "1e969b5e-3e6f-4464-9b53-fc2403e23977",
   "metadata": {},
   "outputs": [
    {
     "data": {
      "text/plain": [
       "tensor([[0.4000, 0.3000, 0.2000, 0.1000]])"
      ]
     },
     "execution_count": 23,
     "metadata": {},
     "output_type": "execute_result"
    }
   ],
   "source": [
    "sorted_logits"
   ]
  },
  {
   "cell_type": "code",
   "execution_count": 24,
   "id": "c0c5df90-0b5f-441c-b737-f49db17aadf3",
   "metadata": {},
   "outputs": [
    {
     "data": {
      "text/plain": [
       "tensor([[3, 1, 0, 2]])"
      ]
     },
     "execution_count": 24,
     "metadata": {},
     "output_type": "execute_result"
    }
   ],
   "source": [
    "sorted_indices"
   ]
  },
  {
   "cell_type": "code",
   "execution_count": 29,
   "id": "296af5bd-48b2-4016-b728-8befc71cd815",
   "metadata": {},
   "outputs": [
    {
     "data": {
      "text/plain": [
       "tensor([[False, False, False,  True]])"
      ]
     },
     "execution_count": 29,
     "metadata": {},
     "output_type": "execute_result"
    }
   ],
   "source": [
    "import torch.nn.functional as F\n",
    "sorted_probs = F.softmax(sorted_logits, dim=-1)\n",
    "cumulative_probs = torch.cumsum(sorted_probs, dim=-1)\n",
    "sorted_indices_to_remove = cumulative_probs > 0.7 #标记为False的是要保留的token\n",
    "sorted_indices_to_remove[:, 1:] = sorted_indices_to_remove[:, :-1].clone() \n",
    "sorted_indices_to_remove"
   ]
  },
  {
   "cell_type": "code",
   "execution_count": 33,
   "id": "f184e170-fd2f-41f6-ac37-0944786874ad",
   "metadata": {},
   "outputs": [
    {
     "data": {
      "text/plain": [
       "tensor([[False, False,  True, False]])"
      ]
     },
     "execution_count": 33,
     "metadata": {},
     "output_type": "execute_result"
    }
   ],
   "source": [
    "sorted_indices_to_remove[:, 0] = False\n",
    "indices_to_remove = sorted_indices_to_remove.scatter(1, sorted_indices, sorted_indices_to_remove)\n",
    "                # indices_to_remove = sorted_indices_to_remove[:,sorted_indices]=sorted_indices_to_remove上面代码与这句等价\n",
    "indices_to_remove"
   ]
  },
  {
   "cell_type": "code",
   "execution_count": 34,
   "id": "4e941651-2e0d-40cc-bb27-bd4987188533",
   "metadata": {},
   "outputs": [
    {
     "data": {
      "text/plain": [
       "tensor([[0.2000, 0.3000,   -inf, 0.4000]])"
      ]
     },
     "execution_count": 34,
     "metadata": {},
     "output_type": "execute_result"
    }
   ],
   "source": [
    "logits[indices_to_remove] = -float('Inf')\n",
    "logits"
   ]
  },
  {
   "cell_type": "code",
   "execution_count": null,
   "id": "4f2c6a77-0436-484e-9230-d1f7fe854e79",
   "metadata": {},
   "outputs": [],
   "source": []
  },
  {
   "cell_type": "code",
   "execution_count": null,
   "id": "aba45fb8-7897-4e90-8516-9c7f3562d096",
   "metadata": {},
   "outputs": [],
   "source": []
  },
  {
   "cell_type": "code",
   "execution_count": 32,
   "id": "da47536b-2afc-4eb0-ba9c-389aa1c26802",
   "metadata": {},
   "outputs": [],
   "source": [
    "input_ids_next = torch.multinomial(F.softmax(logits, dim=-1), num_samples=1)\n",
    "            # torch.multinomial 函数用于从多项分布中进行抽样\n"
   ]
  },
  {
   "cell_type": "code",
   "execution_count": null,
   "id": "d9142748-026b-4251-ab41-b96d7be87d82",
   "metadata": {},
   "outputs": [],
   "source": []
  },
  {
   "cell_type": "code",
   "execution_count": null,
   "id": "1d0ca984-eafb-4bbd-8681-67f4e39c165a",
   "metadata": {},
   "outputs": [],
   "source": [
    "torch"
   ]
  },
  {
   "cell_type": "code",
   "execution_count": null,
   "id": "7b9a02c7-3af1-4ec2-925b-010fec33ad9e",
   "metadata": {},
   "outputs": [],
   "source": []
  },
  {
   "cell_type": "code",
   "execution_count": null,
   "id": "ec85ad44-1915-4327-8736-f80fdb6d2a0b",
   "metadata": {},
   "outputs": [],
   "source": []
  },
  {
   "cell_type": "code",
   "execution_count": null,
   "id": "ad5ba402-f2ce-47a3-ba49-1782defd78ce",
   "metadata": {},
   "outputs": [],
   "source": []
  },
  {
   "cell_type": "code",
   "execution_count": null,
   "id": "72f91320-5244-40e7-a8a0-a7ab19f0fd66",
   "metadata": {},
   "outputs": [],
   "source": []
  },
  {
   "cell_type": "code",
   "execution_count": null,
   "id": "32b1380a-f611-4b36-b203-20ca67fa8e4d",
   "metadata": {},
   "outputs": [],
   "source": []
  },
  {
   "cell_type": "code",
   "execution_count": null,
   "id": "ba6f1431-f8fa-434f-b30b-78db399898c2",
   "metadata": {},
   "outputs": [],
   "source": []
  },
  {
   "cell_type": "code",
   "execution_count": null,
   "id": "dd2013c4-0713-46be-95df-a87bd5e63fa3",
   "metadata": {},
   "outputs": [],
   "source": [
    "generated"
   ]
  },
  {
   "cell_type": "code",
   "execution_count": null,
   "id": "f3e56868-16c9-456c-bf3f-2d024f1733ee",
   "metadata": {},
   "outputs": [],
   "source": [
    "torch.cat([seq, torch.full((1, max_length - seq.size(1)), pad_token_id, dtype=seq.dtype, device=seq.device)],dim=-1)\n",
    "for seq in generated）"
   ]
  },
  {
   "cell_type": "code",
   "execution_count": null,
   "id": "8a791002-22cb-43b5-b153-57ecacdf9a64",
   "metadata": {},
   "outputs": [],
   "source": []
  },
  {
   "cell_type": "code",
   "execution_count": null,
   "id": "b7e9ce0a-0a89-46c2-b28b-d5dcba6e7e7a",
   "metadata": {},
   "outputs": [],
   "source": []
  },
  {
   "cell_type": "code",
   "execution_count": null,
   "id": "1a5d37b5-cd74-44e2-8182-7340fcfb4e87",
   "metadata": {},
   "outputs": [],
   "source": []
  },
  {
   "cell_type": "code",
   "execution_count": 20,
   "id": "e7d6cbb1-4ce8-4607-be3b-2d920df3318e",
   "metadata": {},
   "outputs": [
    {
     "data": {
      "text/plain": [
       "tensor([[1., 1.]])"
      ]
     },
     "execution_count": 20,
     "metadata": {},
     "output_type": "execute_result"
    }
   ],
   "source": [
    "q=torch.ones(1,2)\n",
    "# k=torch.ones(1,2,2,1)\n",
    "# v=torch.ones(1,2,2,1)\n",
    "# q.tolist()\n",
    "q"
   ]
  },
  {
   "cell_type": "code",
   "execution_count": 16,
   "id": "0fbddf24-a400-4c35-9125-00d4be4b77f4",
   "metadata": {},
   "outputs": [
    {
     "data": {
      "text/plain": [
       "torch.Size([1, 1, 1])"
      ]
     },
     "execution_count": 16,
     "metadata": {},
     "output_type": "execute_result"
    }
   ],
   "source": [
    "q.mean(1).shape"
   ]
  },
  {
   "cell_type": "code",
   "execution_count": 12,
   "id": "9498a23e-762d-4742-80c3-cad4a6f4855a",
   "metadata": {},
   "outputs": [
    {
     "data": {
      "text/plain": [
       "torch.Size([1, 2, 1, 2])"
      ]
     },
     "execution_count": 12,
     "metadata": {},
     "output_type": "execute_result"
    }
   ],
   "source": [
    "t=(q@k.transpose(-1,-2))\n",
    "t.shape"
   ]
  },
  {
   "cell_type": "code",
   "execution_count": 13,
   "id": "d952645f-6942-47b7-94fa-24dd043824d0",
   "metadata": {},
   "outputs": [
    {
     "data": {
      "text/plain": [
       "torch.Size([1, 2, 1, 1])"
      ]
     },
     "execution_count": 13,
     "metadata": {},
     "output_type": "execute_result"
    }
   ],
   "source": [
    "z=t@v\n",
    "z.shape"
   ]
  },
  {
   "cell_type": "code",
   "execution_count": 19,
   "id": "0f74c409-f908-4855-8cb6-044407b9fe5e",
   "metadata": {},
   "outputs": [
    {
     "data": {
      "text/plain": [
       "torch.Size([1, 2])"
      ]
     },
     "execution_count": 19,
     "metadata": {},
     "output_type": "execute_result"
    }
   ],
   "source": [
    "a=torch.ones((1,2))\n",
    "a.shape"
   ]
  },
  {
   "cell_type": "code",
   "execution_count": 21,
   "id": "915eca25-f443-4994-81a1-81366f3b58eb",
   "metadata": {},
   "outputs": [
    {
     "data": {
      "text/plain": [
       "torch.Size([2, 1])"
      ]
     },
     "execution_count": 21,
     "metadata": {},
     "output_type": "execute_result"
    }
   ],
   "source": [
    "b=a.view(-1,1)\n",
    "b.shape"
   ]
  },
  {
   "cell_type": "code",
   "execution_count": 4,
   "id": "48c4b0f5-b678-4a73-8c38-ca9d3719910a",
   "metadata": {},
   "outputs": [],
   "source": [
    "past=(k,v)"
   ]
  },
  {
   "cell_type": "code",
   "execution_count": 6,
   "id": "b96b2ea5-d85b-4595-83ba-20dd5f54eeb4",
   "metadata": {},
   "outputs": [],
   "source": [
    "k=torch.cat([past[0],k],dim=1)\n",
    "v=torch.cat([past[0],v],dim=1)"
   ]
  },
  {
   "cell_type": "code",
   "execution_count": 7,
   "id": "61536b8c-10b7-430d-a87c-b12a15f08314",
   "metadata": {},
   "outputs": [
    {
     "data": {
      "text/plain": [
       "torch.Size([1, 4, 2, 2])"
      ]
     },
     "execution_count": 7,
     "metadata": {},
     "output_type": "execute_result"
    }
   ],
   "source": [
    "k.shape"
   ]
  },
  {
   "cell_type": "code",
   "execution_count": 8,
   "id": "8e5d3d74-9688-432b-bc38-7017dd513d6c",
   "metadata": {},
   "outputs": [
    {
     "data": {
      "text/plain": [
       "torch.Size([1, 4, 2, 2])"
      ]
     },
     "execution_count": 8,
     "metadata": {},
     "output_type": "execute_result"
    }
   ],
   "source": [
    "v.shape"
   ]
  },
  {
   "cell_type": "code",
   "execution_count": null,
   "id": "0c7ec5c0-e302-44ea-80d5-1e59562ba50a",
   "metadata": {},
   "outputs": [],
   "source": []
  }
 ],
 "metadata": {
  "kernelspec": {
   "display_name": "mind",
   "language": "python",
   "name": "mind"
  },
  "language_info": {
   "codemirror_mode": {
    "name": "ipython",
    "version": 3
   },
   "file_extension": ".py",
   "mimetype": "text/x-python",
   "name": "python",
   "nbconvert_exporter": "python",
   "pygments_lexer": "ipython3",
   "version": "3.10.16"
  }
 },
 "nbformat": 4,
 "nbformat_minor": 5
}
